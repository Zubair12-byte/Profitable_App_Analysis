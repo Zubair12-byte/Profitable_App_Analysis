{
 "cells": [
  {
   "cell_type": "markdown",
   "metadata": {},
   "source": [
    "# Profitable app profiles\n",
    "\n",
    "# Scenario\n",
    "\n",
    "Our aim in this project is to find mobile app profiles that are profitable. Assuming We're working as data analysts for a company that builds mobile apps, and our job is to enable our team of developers to make data-driven decisions with respect to the kind of apps they build.\n",
    "\n",
    "At our company, we only build apps that are free to download and install, and our main source of revenue consists of in-app ads. This means that our revenue for any given app is mostly influenced by the number of users that use our app. Our goal for this project is to analyze data to help our developers understand what kinds of apps are likely to attract more users.\n",
    "\n"
   ]
  },
  {
   "cell_type": "code",
   "execution_count": 1,
   "metadata": {},
   "outputs": [],
   "source": [
    "from csv import reader"
   ]
  },
  {
   "cell_type": "code",
   "execution_count": 2,
   "metadata": {},
   "outputs": [],
   "source": [
    "android = list(reader(open(\"googleplaystore.csv\", encoding = \"utf-8\")))"
   ]
  },
  {
   "cell_type": "code",
   "execution_count": 3,
   "metadata": {},
   "outputs": [
    {
     "data": {
      "text/plain": [
       "list"
      ]
     },
     "execution_count": 3,
     "metadata": {},
     "output_type": "execute_result"
    }
   ],
   "source": [
    "type(android)"
   ]
  },
  {
   "cell_type": "code",
   "execution_count": 4,
   "metadata": {},
   "outputs": [
    {
     "data": {
      "text/plain": [
       "10842"
      ]
     },
     "execution_count": 4,
     "metadata": {},
     "output_type": "execute_result"
    }
   ],
   "source": [
    "len(android)"
   ]
  },
  {
   "cell_type": "code",
   "execution_count": 5,
   "metadata": {},
   "outputs": [
    {
     "data": {
      "text/plain": [
       "['App',\n",
       " 'Category',\n",
       " 'Rating',\n",
       " 'Reviews',\n",
       " 'Size',\n",
       " 'Installs',\n",
       " 'Type',\n",
       " 'Price',\n",
       " 'Content Rating',\n",
       " 'Genres',\n",
       " 'Last Updated',\n",
       " 'Current Ver',\n",
       " 'Android Ver']"
      ]
     },
     "execution_count": 5,
     "metadata": {},
     "output_type": "execute_result"
    }
   ],
   "source": [
    "android_headers = android[0]\n",
    "android_headers"
   ]
  },
  {
   "cell_type": "code",
   "execution_count": 6,
   "metadata": {},
   "outputs": [],
   "source": [
    "android = android[1:]"
   ]
  },
  {
   "cell_type": "code",
   "execution_count": 7,
   "metadata": {},
   "outputs": [
    {
     "name": "stdout",
     "output_type": "stream",
     "text": [
      "['Life Made WI-Fi Touchscreen Photo Frame', '1.9', '19', '3.0M', '1,000+', 'Free', '0', 'Everyone', '', 'February 11, 2018', '1.0.19', '4.0 and up']\n",
      "\n",
      "['App', 'Category', 'Rating', 'Reviews', 'Size', 'Installs', 'Type', 'Price', 'Content Rating', 'Genres', 'Last Updated', 'Current Ver', 'Android Ver']\n",
      "\n",
      "['Photo Editor & Candy Camera & Grid & ScrapBook', 'ART_AND_DESIGN', '4.1', '159', '19M', '10,000+', 'Free', '0', 'Everyone', 'Art & Design', 'January 7, 2018', '1.0.0', '4.0.3 and up']\n"
     ]
    }
   ],
   "source": [
    "print(android[10472])\n",
    "\n",
    "print()\n",
    "\n",
    "print(android_headers)\n",
    "\n",
    "print()\n",
    "\n",
    "print(android[0])"
   ]
  },
  {
   "cell_type": "code",
   "execution_count": 8,
   "metadata": {},
   "outputs": [],
   "source": [
    "del android[10472]"
   ]
  },
  {
   "cell_type": "code",
   "execution_count": 9,
   "metadata": {},
   "outputs": [
    {
     "data": {
      "text/plain": [
       "10840"
      ]
     },
     "execution_count": 9,
     "metadata": {},
     "output_type": "execute_result"
    }
   ],
   "source": [
    "len(android)"
   ]
  },
  {
   "cell_type": "markdown",
   "metadata": {},
   "source": [
    "# Removing duplicates apps"
   ]
  },
  {
   "cell_type": "code",
   "execution_count": 10,
   "metadata": {},
   "outputs": [
    {
     "name": "stdout",
     "output_type": "stream",
     "text": [
      "['Instagram', 'SOCIAL', '4.5', '66577313', 'Varies with device', '1,000,000,000+', 'Free', '0', 'Teen', 'Social', 'July 31, 2018', 'Varies with device', 'Varies with device']\n",
      "['Instagram', 'SOCIAL', '4.5', '66577446', 'Varies with device', '1,000,000,000+', 'Free', '0', 'Teen', 'Social', 'July 31, 2018', 'Varies with device', 'Varies with device']\n",
      "['Instagram', 'SOCIAL', '4.5', '66577313', 'Varies with device', '1,000,000,000+', 'Free', '0', 'Teen', 'Social', 'July 31, 2018', 'Varies with device', 'Varies with device']\n",
      "['Instagram', 'SOCIAL', '4.5', '66509917', 'Varies with device', '1,000,000,000+', 'Free', '0', 'Teen', 'Social', 'July 31, 2018', 'Varies with device', 'Varies with device']\n"
     ]
    }
   ],
   "source": [
    "for i in android:\n",
    "    name = i[0]\n",
    "    if name == \"Instagram\":\n",
    "        print(i)"
   ]
  },
  {
   "cell_type": "code",
   "execution_count": 11,
   "metadata": {},
   "outputs": [],
   "source": [
    "duplicate_app = []\n",
    "unique_app = []\n",
    "\n",
    "for i in android:\n",
    "    app = i[0]\n",
    "    # print(app)\n",
    "    if app in unique_app:\n",
    "        duplicate_app.append(app)\n",
    "    else:\n",
    "        unique_app.append(app)"
   ]
  },
  {
   "cell_type": "code",
   "execution_count": 12,
   "metadata": {},
   "outputs": [
    {
     "data": {
      "text/plain": [
       "1181"
      ]
     },
     "execution_count": 12,
     "metadata": {},
     "output_type": "execute_result"
    }
   ],
   "source": [
    "len(duplicate_app)"
   ]
  },
  {
   "cell_type": "code",
   "execution_count": 13,
   "metadata": {},
   "outputs": [
    {
     "data": {
      "text/plain": [
       "9659"
      ]
     },
     "execution_count": 13,
     "metadata": {},
     "output_type": "execute_result"
    }
   ],
   "source": [
    "len(unique_app)"
   ]
  },
  {
   "cell_type": "code",
   "execution_count": 14,
   "metadata": {},
   "outputs": [],
   "source": [
    "# reviwes = {\"Instagram\":66577440}\n",
    "\n",
    "reviews = {}\n",
    "\n",
    "for i in android:\n",
    "    app_name = i[0]\n",
    "    n_reviews = float(i[3])\n",
    "    # print(n_reviews)\n",
    "    if app_name not in reviews:\n",
    "        reviews[app_name] = n_reviews\n",
    "    elif app_name in reviews and reviews[app_name] < n_reviews:\n",
    "        reviews[app_name] = n_reviews"
   ]
  },
  {
   "cell_type": "code",
   "execution_count": 15,
   "metadata": {},
   "outputs": [
    {
     "data": {
      "text/plain": [
       "66577446.0"
      ]
     },
     "execution_count": 15,
     "metadata": {},
     "output_type": "execute_result"
    }
   ],
   "source": [
    "reviews[\"Instagram\"]"
   ]
  },
  {
   "cell_type": "code",
   "execution_count": 16,
   "metadata": {},
   "outputs": [],
   "source": [
    "android_clean = []\n",
    "already_added = []\n",
    "for i in android:\n",
    "    n_reviews = float(i[3])\n",
    "    app_name = i[0]\n",
    "    if reviews[app_name] == n_reviews and app_name not in already_added:\n",
    "        android_clean.append(i)\n",
    "        already_added.append(app_name)\n",
    "        \n",
    "        "
   ]
  },
  {
   "cell_type": "code",
   "execution_count": 17,
   "metadata": {},
   "outputs": [],
   "source": [
    "# ['Whatsapp', 'SOCIAL', '4.5', '66577446', 'Varies with device', '1,000,000,000+', 'Free', '0', 'Teen', 'Social', 'July 31, 2018', 'Varies with device', 'Varies with device']\n",
    "# ['Whatsapp', 'SOCIAL', '4.5', '66577446', 'Varies with device', '1,000,000,000+', 'Free', '0', 'Teen', 'Social', 'July 31, 2018', 'Varies with device', 'Varies with device']\n",
    "# ['Whatsapp', 'SOCIAL', '4.5', '66577446', 'Varies with device', '1,000,000,000+', 'Free', '0', 'Teen', 'Social', 'July 31, 2018', 'Varies with device', 'Varies with device']\n",
    "# ['Whatsapp', 'SOCIAL', '4.5', '66577446', 'Varies with device', '1,000,000,000+', 'Free', '0', 'Teen', 'Social', 'July 31, 2018', 'Varies with device', 'Varies with device']"
   ]
  },
  {
   "cell_type": "code",
   "execution_count": 18,
   "metadata": {},
   "outputs": [
    {
     "data": {
      "text/plain": [
       "9659"
      ]
     },
     "execution_count": 18,
     "metadata": {},
     "output_type": "execute_result"
    }
   ],
   "source": [
    "len(android_clean)"
   ]
  },
  {
   "cell_type": "code",
   "execution_count": 19,
   "metadata": {},
   "outputs": [
    {
     "data": {
      "text/plain": [
       "'中国語 AQリスニング'"
      ]
     },
     "execution_count": 19,
     "metadata": {},
     "output_type": "execute_result"
    }
   ],
   "source": [
    "android_clean[4412][0]"
   ]
  },
  {
   "cell_type": "code",
   "execution_count": 20,
   "metadata": {},
   "outputs": [
    {
     "data": {
      "text/plain": [
       "'لعبة تقدر تربح DZ'"
      ]
     },
     "execution_count": 20,
     "metadata": {},
     "output_type": "execute_result"
    }
   ],
   "source": [
    "android_clean[7940][0]"
   ]
  },
  {
   "cell_type": "markdown",
   "metadata": {},
   "source": [
    "# Removing Non English App"
   ]
  },
  {
   "cell_type": "code",
   "execution_count": 21,
   "metadata": {},
   "outputs": [
    {
     "data": {
      "text/plain": [
       "65"
      ]
     },
     "execution_count": 21,
     "metadata": {},
     "output_type": "execute_result"
    }
   ],
   "source": [
    "ord(\"A\")"
   ]
  },
  {
   "cell_type": "code",
   "execution_count": 22,
   "metadata": {},
   "outputs": [
    {
     "name": "stdout",
     "output_type": "stream",
     "text": [
      "\u0000\n",
      "\u0001\n",
      "\u0002\n",
      "\u0003\n",
      "\u0004\n",
      "\u0005\n",
      "\u0006\n",
      "\u0007\n",
      "\b\n",
      "\t\n",
      "\n",
      "\n",
      "\u000b",
      "\n",
      "\f",
      "\n",
      "\r\n",
      "\u000e\n",
      "\u000f\n",
      "\u0010\n",
      "\u0011\n",
      "\u0012\n",
      "\u0013\n",
      "\u0014\n",
      "\u0015\n",
      "\u0016\n",
      "\u0017\n",
      "\u0018\n",
      "\u0019\n",
      "\u001a\n",
      "\u001b\n",
      "\u001c",
      "\n",
      "\u001d",
      "\n",
      "\u001e",
      "\n",
      "\u001f\n",
      " \n",
      "!\n",
      "\"\n",
      "#\n",
      "$\n",
      "%\n",
      "&\n",
      "'\n",
      "(\n",
      ")\n",
      "*\n",
      "+\n",
      ",\n",
      "-\n",
      ".\n",
      "/\n",
      "0\n",
      "1\n",
      "2\n",
      "3\n",
      "4\n",
      "5\n",
      "6\n",
      "7\n",
      "8\n",
      "9\n",
      ":\n",
      ";\n",
      "<\n",
      "=\n",
      ">\n",
      "?\n",
      "@\n",
      "A\n",
      "B\n",
      "C\n",
      "D\n",
      "E\n",
      "F\n",
      "G\n",
      "H\n",
      "I\n",
      "J\n",
      "K\n",
      "L\n",
      "M\n",
      "N\n",
      "O\n",
      "P\n",
      "Q\n",
      "R\n",
      "S\n",
      "T\n",
      "U\n",
      "V\n",
      "W\n",
      "X\n",
      "Y\n",
      "Z\n",
      "[\n",
      "\\\n",
      "]\n",
      "^\n",
      "_\n",
      "`\n",
      "a\n",
      "b\n",
      "c\n",
      "d\n",
      "e\n",
      "f\n",
      "g\n",
      "h\n",
      "i\n",
      "j\n",
      "k\n",
      "l\n",
      "m\n",
      "n\n",
      "o\n",
      "p\n",
      "q\n",
      "r\n",
      "s\n",
      "t\n",
      "u\n",
      "v\n",
      "w\n",
      "x\n",
      "y\n",
      "z\n",
      "{\n",
      "|\n",
      "}\n",
      "~\n",
      "\n"
     ]
    }
   ],
   "source": [
    "for i in range(0,128):\n",
    "    #print(chr(i))"
   ]
  },
  {
   "cell_type": "code",
   "execution_count": 23,
   "metadata": {},
   "outputs": [],
   "source": [
    "def is_english(app_name):\n",
    "    for i in app_name:\n",
    "        if ord(i) > 127:\n",
    "            return False\n",
    "        else:\n",
    "            return True"
   ]
  },
  {
   "cell_type": "code",
   "execution_count": 24,
   "metadata": {},
   "outputs": [
    {
     "data": {
      "text/plain": [
       "True"
      ]
     },
     "execution_count": 24,
     "metadata": {},
     "output_type": "execute_result"
    }
   ],
   "source": [
    "is_english(\"Instagram\")"
   ]
  },
  {
   "cell_type": "code",
   "execution_count": 28,
   "metadata": {},
   "outputs": [
    {
     "data": {
      "text/plain": [
       "False"
      ]
     },
     "execution_count": 28,
     "metadata": {},
     "output_type": "execute_result"
    }
   ],
   "source": [
    "is_english(\"中国語 AQリスニング\")"
   ]
  },
  {
   "cell_type": "code",
   "execution_count": 29,
   "metadata": {},
   "outputs": [
    {
     "data": {
      "text/plain": [
       "False"
      ]
     },
     "execution_count": 29,
     "metadata": {},
     "output_type": "execute_result"
    }
   ],
   "source": [
    "is_english(\"😋\")"
   ]
  },
  {
   "cell_type": "code",
   "execution_count": 30,
   "metadata": {},
   "outputs": [
    {
     "data": {
      "text/plain": [
       "128523"
      ]
     },
     "execution_count": 30,
     "metadata": {},
     "output_type": "execute_result"
    }
   ],
   "source": [
    "ord(\"😋\")"
   ]
  },
  {
   "cell_type": "code",
   "execution_count": 31,
   "metadata": {},
   "outputs": [],
   "source": [
    "def is_english(app_name):\n",
    "    non_ascii = 0\n",
    "    for i in app_name: # instagram😋  , i = i\n",
    "        if ord(i) > 127:\n",
    "            non_ascii += 1\n",
    "    \n",
    "    if non_ascii > 3:\n",
    "        return False\n",
    "    else:\n",
    "        return True"
   ]
  },
  {
   "cell_type": "code",
   "execution_count": 36,
   "metadata": {},
   "outputs": [
    {
     "data": {
      "text/plain": [
       "False"
      ]
     },
     "execution_count": 36,
     "metadata": {},
     "output_type": "execute_result"
    }
   ],
   "source": [
    "is_english(\"Instagram 😋😋😋😋\")"
   ]
  },
  {
   "cell_type": "code",
   "execution_count": 37,
   "metadata": {},
   "outputs": [
    {
     "data": {
      "text/plain": [
       "9659"
      ]
     },
     "execution_count": 37,
     "metadata": {},
     "output_type": "execute_result"
    }
   ],
   "source": [
    "len(android_clean)"
   ]
  },
  {
   "cell_type": "code",
   "execution_count": 39,
   "metadata": {},
   "outputs": [],
   "source": [
    "android_english = []\n",
    "\n",
    "for i in android_clean:\n",
    "    app_name = i[0]\n",
    "#     print(app_name)\n",
    "    if is_english(app_name):\n",
    "        android_english.append(i)"
   ]
  },
  {
   "cell_type": "code",
   "execution_count": 41,
   "metadata": {},
   "outputs": [
    {
     "data": {
      "text/plain": [
       "9614"
      ]
     },
     "execution_count": 41,
     "metadata": {},
     "output_type": "execute_result"
    }
   ],
   "source": [
    "len(android_english)"
   ]
  },
  {
   "cell_type": "code",
   "execution_count": 45,
   "metadata": {},
   "outputs": [],
   "source": [
    "android_final = []\n",
    "\n",
    "for i in android_english:\n",
    "    price = i[7]\n",
    "#     print(price)\n",
    "    if price == \"0\":\n",
    "        android_final.append(i)"
   ]
  },
  {
   "cell_type": "code",
   "execution_count": 46,
   "metadata": {},
   "outputs": [
    {
     "data": {
      "text/plain": [
       "8864"
      ]
     },
     "execution_count": 46,
     "metadata": {},
     "output_type": "execute_result"
    }
   ],
   "source": [
    "len(android_final)"
   ]
  },
  {
   "cell_type": "code",
   "execution_count": 47,
   "metadata": {},
   "outputs": [],
   "source": [
    "categories = []\n",
    "\n",
    "for i in android_final:\n",
    "    categories.append(i[1])"
   ]
  },
  {
   "cell_type": "code",
   "execution_count": 50,
   "metadata": {},
   "outputs": [
    {
     "name": "stdout",
     "output_type": "stream",
     "text": [
      "{'COMMUNICATION', 'ART_AND_DESIGN', 'SHOPPING', 'SPORTS', 'TRAVEL_AND_LOCAL', 'EVENTS', 'LIBRARIES_AND_DEMO', 'FAMILY', 'EDUCATION', 'DATING', 'COMICS', 'SOCIAL', 'PRODUCTIVITY', 'MAPS_AND_NAVIGATION', 'PARENTING', 'WEATHER', 'TOOLS', 'FOOD_AND_DRINK', 'ENTERTAINMENT', 'BUSINESS', 'HOUSE_AND_HOME', 'LIFESTYLE', 'GAME', 'MEDICAL', 'HEALTH_AND_FITNESS', 'PERSONALIZATION', 'NEWS_AND_MAGAZINES', 'BEAUTY', 'FINANCE', 'BOOKS_AND_REFERENCE', 'VIDEO_PLAYERS', 'PHOTOGRAPHY', 'AUTO_AND_VEHICLES'}\n"
     ]
    }
   ],
   "source": [
    "uni_categories = set(categories)\n",
    "print(uni_categories)"
   ]
  },
  {
   "cell_type": "markdown",
   "metadata": {},
   "source": [
    "# Most Common Genres as per avg installation"
   ]
  },
  {
   "cell_type": "code",
   "execution_count": 59,
   "metadata": {},
   "outputs": [],
   "source": [
    "avg_installation = []\n",
    "\n",
    "for i in uni_categories:\n",
    "    total_ins = 0\n",
    "    no_app = 0\n",
    "    for j in android_final:\n",
    "        category = j[1]\n",
    "        if i == category:\n",
    "            install = float(j[5].replace(\"+\",\"\").replace(\",\",\"\"))\n",
    "#             print(install)\n",
    "            total_ins += install\n",
    "            no_app += 1\n",
    "    avg = total_ins/no_app\n",
    "#     print(i,avg)\n",
    "    avg_installation.append([i,avg])"
   ]
  },
  {
   "cell_type": "code",
   "execution_count": 60,
   "metadata": {},
   "outputs": [
    {
     "data": {
      "text/plain": [
       "[['COMMUNICATION', 38456119.167247385],\n",
       " ['ART_AND_DESIGN', 1986335.0877192982],\n",
       " ['SHOPPING', 7036877.311557789],\n",
       " ['SPORTS', 3638640.1428571427],\n",
       " ['TRAVEL_AND_LOCAL', 13984077.710144928],\n",
       " ['EVENTS', 253542.22222222222],\n",
       " ['LIBRARIES_AND_DEMO', 638503.734939759],\n",
       " ['FAMILY', 3695641.8198090694],\n",
       " ['EDUCATION', 1833495.145631068],\n",
       " ['DATING', 854028.8303030303],\n",
       " ['COMICS', 817657.2727272727],\n",
       " ['SOCIAL', 23253652.127118643],\n",
       " ['PRODUCTIVITY', 16787331.344927534],\n",
       " ['MAPS_AND_NAVIGATION', 4056941.7741935486],\n",
       " ['PARENTING', 542603.6206896552],\n",
       " ['WEATHER', 5074486.197183099],\n",
       " ['TOOLS', 10801391.298666667],\n",
       " ['FOOD_AND_DRINK', 1924897.7363636363],\n",
       " ['ENTERTAINMENT', 11640705.88235294],\n",
       " ['BUSINESS', 1712290.1474201474],\n",
       " ['HOUSE_AND_HOME', 1331540.5616438356],\n",
       " ['LIFESTYLE', 1437816.2687861272],\n",
       " ['GAME', 15588015.603248259],\n",
       " ['MEDICAL', 120550.61980830671],\n",
       " ['HEALTH_AND_FITNESS', 4188821.9853479853],\n",
       " ['PERSONALIZATION', 5201482.6122448975],\n",
       " ['NEWS_AND_MAGAZINES', 9549178.467741935],\n",
       " ['BEAUTY', 513151.88679245283],\n",
       " ['FINANCE', 1387692.475609756],\n",
       " ['BOOKS_AND_REFERENCE', 8767811.894736841],\n",
       " ['VIDEO_PLAYERS', 24727872.452830188],\n",
       " ['PHOTOGRAPHY', 17840110.40229885],\n",
       " ['AUTO_AND_VEHICLES', 647317.8170731707]]"
      ]
     },
     "execution_count": 60,
     "metadata": {},
     "output_type": "execute_result"
    }
   ],
   "source": [
    "avg_installation"
   ]
  },
  {
   "cell_type": "code",
   "execution_count": 61,
   "metadata": {},
   "outputs": [
    {
     "data": {
      "text/plain": [
       "[[38456119.167247385, 'COMMUNICATION'],\n",
       " [1986335.0877192982, 'ART_AND_DESIGN'],\n",
       " [7036877.311557789, 'SHOPPING'],\n",
       " [3638640.1428571427, 'SPORTS'],\n",
       " [13984077.710144928, 'TRAVEL_AND_LOCAL'],\n",
       " [253542.22222222222, 'EVENTS'],\n",
       " [638503.734939759, 'LIBRARIES_AND_DEMO'],\n",
       " [3695641.8198090694, 'FAMILY'],\n",
       " [1833495.145631068, 'EDUCATION'],\n",
       " [854028.8303030303, 'DATING'],\n",
       " [817657.2727272727, 'COMICS'],\n",
       " [23253652.127118643, 'SOCIAL'],\n",
       " [16787331.344927534, 'PRODUCTIVITY'],\n",
       " [4056941.7741935486, 'MAPS_AND_NAVIGATION'],\n",
       " [542603.6206896552, 'PARENTING'],\n",
       " [5074486.197183099, 'WEATHER'],\n",
       " [10801391.298666667, 'TOOLS'],\n",
       " [1924897.7363636363, 'FOOD_AND_DRINK'],\n",
       " [11640705.88235294, 'ENTERTAINMENT'],\n",
       " [1712290.1474201474, 'BUSINESS'],\n",
       " [1331540.5616438356, 'HOUSE_AND_HOME'],\n",
       " [1437816.2687861272, 'LIFESTYLE'],\n",
       " [15588015.603248259, 'GAME'],\n",
       " [120550.61980830671, 'MEDICAL'],\n",
       " [4188821.9853479853, 'HEALTH_AND_FITNESS'],\n",
       " [5201482.6122448975, 'PERSONALIZATION'],\n",
       " [9549178.467741935, 'NEWS_AND_MAGAZINES'],\n",
       " [513151.88679245283, 'BEAUTY'],\n",
       " [1387692.475609756, 'FINANCE'],\n",
       " [8767811.894736841, 'BOOKS_AND_REFERENCE'],\n",
       " [24727872.452830188, 'VIDEO_PLAYERS'],\n",
       " [17840110.40229885, 'PHOTOGRAPHY'],\n",
       " [647317.8170731707, 'AUTO_AND_VEHICLES']]"
      ]
     },
     "execution_count": 61,
     "metadata": {},
     "output_type": "execute_result"
    }
   ],
   "source": [
    "sorted_list = []\n",
    "\n",
    "for i in avg_installation:\n",
    "    sorted_list.append([i[1],i[0]])\n",
    "sorted_list"
   ]
  },
  {
   "cell_type": "code",
   "execution_count": 64,
   "metadata": {},
   "outputs": [
    {
     "data": {
      "text/plain": [
       "[[38456119.167247385, 'COMMUNICATION'],\n",
       " [24727872.452830188, 'VIDEO_PLAYERS'],\n",
       " [23253652.127118643, 'SOCIAL'],\n",
       " [17840110.40229885, 'PHOTOGRAPHY'],\n",
       " [16787331.344927534, 'PRODUCTIVITY'],\n",
       " [15588015.603248259, 'GAME'],\n",
       " [13984077.710144928, 'TRAVEL_AND_LOCAL'],\n",
       " [11640705.88235294, 'ENTERTAINMENT'],\n",
       " [10801391.298666667, 'TOOLS'],\n",
       " [9549178.467741935, 'NEWS_AND_MAGAZINES'],\n",
       " [8767811.894736841, 'BOOKS_AND_REFERENCE'],\n",
       " [7036877.311557789, 'SHOPPING'],\n",
       " [5201482.6122448975, 'PERSONALIZATION'],\n",
       " [5074486.197183099, 'WEATHER'],\n",
       " [4188821.9853479853, 'HEALTH_AND_FITNESS'],\n",
       " [4056941.7741935486, 'MAPS_AND_NAVIGATION'],\n",
       " [3695641.8198090694, 'FAMILY'],\n",
       " [3638640.1428571427, 'SPORTS'],\n",
       " [1986335.0877192982, 'ART_AND_DESIGN'],\n",
       " [1924897.7363636363, 'FOOD_AND_DRINK'],\n",
       " [1833495.145631068, 'EDUCATION'],\n",
       " [1712290.1474201474, 'BUSINESS'],\n",
       " [1437816.2687861272, 'LIFESTYLE'],\n",
       " [1387692.475609756, 'FINANCE'],\n",
       " [1331540.5616438356, 'HOUSE_AND_HOME'],\n",
       " [854028.8303030303, 'DATING'],\n",
       " [817657.2727272727, 'COMICS'],\n",
       " [647317.8170731707, 'AUTO_AND_VEHICLES'],\n",
       " [638503.734939759, 'LIBRARIES_AND_DEMO'],\n",
       " [542603.6206896552, 'PARENTING'],\n",
       " [513151.88679245283, 'BEAUTY'],\n",
       " [253542.22222222222, 'EVENTS'],\n",
       " [120550.61980830671, 'MEDICAL']]"
      ]
     },
     "execution_count": 64,
     "metadata": {},
     "output_type": "execute_result"
    }
   ],
   "source": [
    "sorted_list = sorted(sorted_list, reverse = True)\n",
    "sorted_list"
   ]
  },
  {
   "cell_type": "code",
   "execution_count": 66,
   "metadata": {},
   "outputs": [
    {
     "name": "stdout",
     "output_type": "stream",
     "text": [
      "WhatsApp Messenger 1,000,000,000+\n",
      "imo beta free calls and text 100,000,000+\n",
      "Android Messages 100,000,000+\n",
      "Google Duo - High Quality Video Calls 500,000,000+\n",
      "Messenger – Text and Video Chat for Free 1,000,000,000+\n",
      "imo free video calls and chat 500,000,000+\n",
      "Skype - free IM & video calls 1,000,000,000+\n",
      "Who 100,000,000+\n",
      "GO SMS Pro - Messenger, Free Themes, Emoji 100,000,000+\n",
      "LINE: Free Calls & Messages 500,000,000+\n",
      "Google Chrome: Fast & Secure 1,000,000,000+\n",
      "Firefox Browser fast & private 100,000,000+\n",
      "UC Browser - Fast Download Private & Secure 500,000,000+\n",
      "Gmail 1,000,000,000+\n",
      "Hangouts 1,000,000,000+\n",
      "Messenger Lite: Free Calls & Messages 100,000,000+\n",
      "Kik 100,000,000+\n",
      "KakaoTalk: Free Calls & Text 100,000,000+\n",
      "Opera Mini - fast web browser 100,000,000+\n",
      "Opera Browser: Fast and Secure 100,000,000+\n",
      "Telegram 100,000,000+\n",
      "Truecaller: Caller ID, SMS spam blocking & Dialer 100,000,000+\n",
      "UC Browser Mini -Tiny Fast Private & Secure 100,000,000+\n",
      "Viber Messenger 500,000,000+\n",
      "WeChat 100,000,000+\n",
      "Yahoo Mail – Stay Organized 100,000,000+\n",
      "BBM - Free Calls & Messages 100,000,000+\n"
     ]
    }
   ],
   "source": [
    "for i in android_final:\n",
    "    if i[1] == \"COMMUNICATION\" and (i[5] == \"1,000,000,000+\" or i[5] == \"500,000,000+\" or  i[5] == \"100,000,000+\" ):\n",
    "        print(i[0],i[5])"
   ]
  },
  {
   "cell_type": "code",
   "execution_count": 69,
   "metadata": {},
   "outputs": [
    {
     "name": "stdout",
     "output_type": "stream",
     "text": [
      "Power Booster - Junk Cleaner & CPU Cooler & Boost 1,000,000+\n",
      "Calculator - unit converter 50,000,000+\n",
      "MyMTN 1,000,000+\n",
      "Advanced Task Killer 50,000,000+\n",
      "My Airtel-Online Recharge, Pay Bill, Wallet, UPI 50,000,000+\n",
      "Do It Later: Tasks & To-Dos 50,000,000+\n",
      "Verizon Cloud 50,000,000+\n",
      "myAT&T 50,000,000+\n",
      "Hacker's Keyboard 1,000,000+\n",
      "MEGA 50,000,000+\n",
      "Security & Privacy 1,000,000+\n",
      "Loop - Habit Tracker 1,000,000+\n",
      "TickTick: To Do List with Reminder, Day Planner 1,000,000+\n",
      "Pushbullet - SMS on PC 1,000,000+\n",
      "Planner Pro-Personal Organizer 1,000,000+\n",
      "Cozi Family Organizer 1,000,000+\n",
      "IFTTT 1,000,000+\n",
      "Dashlane Free Password Manager 1,000,000+\n",
      "Solid Explorer Classic 1,000,000+\n",
      "File Browser by Astro (File Manager) 50,000,000+\n",
      "Solid Explorer File Manager 1,000,000+\n",
      "Smart File Manager 1,000,000+\n",
      "Simple Notepad 1,000,000+\n",
      "Sticky Note + : Sync Notes 1,000,000+\n",
      "Squid - Take Notes & Markup PDFs 1,000,000+\n",
      "JotterPad - Writer, Screenplay, Novel 1,000,000+\n",
      "Calendar+ Schedule Planner App 1,000,000+\n",
      "Today Calendar 2017 1,000,000+\n",
      "To-Do Calendar Planner 1,000,000+\n",
      "New Calendar 1,000,000+\n",
      "Time Recording - Timesheet App 1,000,000+\n",
      "Amazon Drive 1,000,000+\n",
      "SugarSync 1,000,000+\n",
      "pCloud: Free Cloud Storage 1,000,000+\n",
      "EX File Explorer File Manager 1,000,000+\n",
      "Emoji Android L Keyboard 1,000,000+\n",
      "Mobizen Screen Recorder - Record, Capture, Edit 50,000,000+\n",
      "Multiling O Keyboard + emoji 1,000,000+\n",
      "S’more - Earn Cash Rewards 1,000,000+\n",
      "Můj T-Mobile Business 1,000,000+\n",
      "Adblock Fast 1,000,000+\n",
      "Google AdSense 1,000,000+\n",
      "Extreme- Personal Voice Assistant 1,000,000+\n",
      "Lyra Virtual Assistant 1,000,000+\n",
      "AL Voice Recorder 1,000,000+\n",
      "QR Droid 50,000,000+\n",
      "Alarm Clock: Stopwatch & Timer 50,000,000+\n",
      "ALL-IN-ONE PACKAGE TRACKING 1,000,000+\n",
      "Chrome Canary (Unstable) 1,000,000+\n",
      "Ultimate Chest Tracker 1,000,000+\n",
      "Resume Free 1,000,000+\n",
      "CY Security Antivirus Cleaner 1,000,000+\n",
      "Phone Clean Best Speed Booster 1,000,000+\n",
      "e-Boks.dk 1,000,000+\n",
      "Mahalaxmi Dindarshika 2018 1,000,000+\n",
      "Microsoft To-Do: List, Task & Reminder 1,000,000+\n",
      "To Do Reminder with Alarm 1,000,000+\n",
      "Do it (Tomorrow) 1,000,000+\n",
      "To-Do List Widget 1,000,000+\n",
      "NoteToDo. Notes. To do list 1,000,000+\n",
      "Cal - Google Calendar + Widget 1,000,000+\n",
      "Adobe Fill & Sign: Easy PDF Form Filler 1,000,000+\n",
      "DS file 1,000,000+\n",
      "Epson iProjection 1,000,000+\n",
      "ES Material Theme for Pro 1,000,000+\n",
      "Chelsea FC Official Keyboard 1,000,000+\n",
      "Avast Wi-Fi Finder 1,000,000+\n"
     ]
    }
   ],
   "source": [
    "for i in android_final:\n",
    "    if i[1] == \"PRODUCTIVITY\" and (i[5] == \"50,000,000+\" or i[5] == \"10,00,000+\" or i[5] == \"1,000,000+\")  :\n",
    "        print(i[0],i[5])"
   ]
  },
  {
   "cell_type": "markdown",
   "metadata": {},
   "source": [
    "# Conclusion\n",
    "\n",
    "We are recommending 'PRODUCTIVITY' category and we can go with MyMTN type app where will add on some A.I models and further adds on on the basis our research"
   ]
  },
  {
   "cell_type": "code",
   "execution_count": null,
   "metadata": {},
   "outputs": [],
   "source": []
  }
 ],
 "metadata": {
  "kernelspec": {
   "display_name": "Python 3",
   "language": "python",
   "name": "python3"
  },
  "language_info": {
   "codemirror_mode": {
    "name": "ipython",
    "version": 3
   },
   "file_extension": ".py",
   "mimetype": "text/x-python",
   "name": "python",
   "nbconvert_exporter": "python",
   "pygments_lexer": "ipython3",
   "version": "3.8.3"
  }
 },
 "nbformat": 4,
 "nbformat_minor": 2
}
